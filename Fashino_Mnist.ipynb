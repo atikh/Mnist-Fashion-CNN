{
  "nbformat": 4,
  "nbformat_minor": 0,
  "metadata": {
    "colab": {
      "provenance": [],
      "authorship_tag": "ABX9TyN+N2dteezY9M1u4X40LwEN",
      "include_colab_link": true
    },
    "kernelspec": {
      "name": "python3",
      "display_name": "Python 3"
    },
    "language_info": {
      "name": "python"
    },
    "accelerator": "GPU",
    "gpuClass": "standard"
  },
  "cells": [
    {
      "cell_type": "markdown",
      "metadata": {
        "id": "view-in-github",
        "colab_type": "text"
      },
      "source": [
        "<a href=\"https://colab.research.google.com/github/atikh/Mnist-Fashion-CNN/blob/main/Fashino_Mnist.ipynb\" target=\"_parent\"><img src=\"https://colab.research.google.com/assets/colab-badge.svg\" alt=\"Open In Colab\"/></a>"
      ]
    },
    {
      "cell_type": "code",
      "execution_count": 2,
      "metadata": {
        "id": "yhf9MGdZrPJK"
      },
      "outputs": [],
      "source": [
        "from tensorflow.keras.datasets.fashion_mnist import load_data"
      ]
    },
    {
      "cell_type": "code",
      "source": [
        "import numpy as np\n",
        "import pandas as pd\n",
        "from sklearn.model_selection import train_test_split\n",
        "from sklearn.metrics import classification_report\n",
        "from tensorflow.python import keras\n",
        "from tensorflow.python.keras.models import Sequential\n",
        "from tensorflow.python.keras.layers import Dense, Flatten, Conv2D, Dropout, MaxPooling2D\n",
        "from tensorflow.keras.layers import BatchNormalization"
      ],
      "metadata": {
        "id": "6bBKfNQirotg"
      },
      "execution_count": 25,
      "outputs": []
    },
    {
      "cell_type": "code",
      "source": [
        "(X, y), (X_test, y_test) = load_data()\n",
        "print(X.shape, y.shape, X_test.shape, y_test.shape)"
      ],
      "metadata": {
        "colab": {
          "base_uri": "https://localhost:8080/"
        },
        "id": "I7r7GHJ3rVYc",
        "outputId": "be6f5e9b-fc61-41a6-e876-c5df52bd6f8d"
      },
      "execution_count": 4,
      "outputs": [
        {
          "output_type": "stream",
          "name": "stdout",
          "text": [
            "Downloading data from https://storage.googleapis.com/tensorflow/tf-keras-datasets/train-labels-idx1-ubyte.gz\n",
            "29515/29515 [==============================] - 0s 0us/step\n",
            "Downloading data from https://storage.googleapis.com/tensorflow/tf-keras-datasets/train-images-idx3-ubyte.gz\n",
            "26421880/26421880 [==============================] - 0s 0us/step\n",
            "Downloading data from https://storage.googleapis.com/tensorflow/tf-keras-datasets/t10k-labels-idx1-ubyte.gz\n",
            "5148/5148 [==============================] - 0s 0us/step\n",
            "Downloading data from https://storage.googleapis.com/tensorflow/tf-keras-datasets/t10k-images-idx3-ubyte.gz\n",
            "4422102/4422102 [==============================] - 0s 0us/step\n",
            "(60000, 28, 28) (60000,) (10000, 28, 28) (10000,)\n"
          ]
        }
      ]
    },
    {
      "cell_type": "code",
      "source": [
        "# data preprocessing\n",
        "X=X/255\n",
        "X_test=X_test/255\n",
        "X_test.shape"
      ],
      "metadata": {
        "colab": {
          "base_uri": "https://localhost:8080/"
        },
        "id": "X7y2mYCPu8P6",
        "outputId": "f4061128-be14-498c-9bc6-7e35de2db1ea"
      },
      "execution_count": 5,
      "outputs": [
        {
          "output_type": "execute_result",
          "data": {
            "text/plain": [
              "(10000, 28, 28)"
            ]
          },
          "metadata": {},
          "execution_count": 5
        }
      ]
    },
    {
      "cell_type": "code",
      "source": [
        "#add another dim\n",
        "X = np.reshape(X, (X.shape[0],X.shape[1],X.shape[2],1))\n",
        "X_test = np.reshape(X_test, (X_test.shape[0],X_test.shape[1],X_test.shape[2],1))\n",
        "X_test.shape"
      ],
      "metadata": {
        "colab": {
          "base_uri": "https://localhost:8080/"
        },
        "id": "dXXaydeXrnht",
        "outputId": "a601e1e7-1baf-4e3c-d997-c8e9e83eccef"
      },
      "execution_count": 6,
      "outputs": [
        {
          "output_type": "execute_result",
          "data": {
            "text/plain": [
              "(10000, 28, 28, 1)"
            ]
          },
          "metadata": {},
          "execution_count": 6
        }
      ]
    },
    {
      "cell_type": "code",
      "source": [
        "X_train, X_val, y_train, y_val = train_test_split(X, y, test_size=0.2, random_state=108)"
      ],
      "metadata": {
        "id": "_4GcgGknsm2G"
      },
      "execution_count": 7,
      "outputs": []
    },
    {
      "cell_type": "code",
      "source": [
        "print(X_train.shape)\n",
        "print(X_val.shape)\n",
        "print(X_test.shape)"
      ],
      "metadata": {
        "colab": {
          "base_uri": "https://localhost:8080/"
        },
        "id": "qDdFtCeCuCM_",
        "outputId": "55673388-bc34-4d1d-f18f-a2f86ea5b531"
      },
      "execution_count": 11,
      "outputs": [
        {
          "output_type": "stream",
          "name": "stdout",
          "text": [
            "(48000, 28, 28, 1)\n",
            "(12000, 28, 28, 1)\n",
            "(10000, 28, 28, 1)\n"
          ]
        }
      ]
    },
    {
      "cell_type": "code",
      "source": [
        "# Model\n",
        "model = Sequential()\n",
        "\n",
        "model.add(Conv2D(32, kernel_size=(3, 3), activation='relu', kernel_initializer='he_normal',input_shape=(28, 28, 1)))\n",
        "model.add(MaxPooling2D((2, 2)))\n",
        "\n",
        "model.add(Conv2D(64, kernel_size=(3, 3), activation='relu'))\n",
        "model.add(MaxPooling2D(pool_size=(2, 2)))\n",
        "\n",
        "model.add(Conv2D(128, (3, 3), activation='relu'))\n",
        "model.add(Flatten())\n",
        "model.add(Dense(128, activation='relu'))\n",
        "model.add(Dense(10, activation='softmax'))\n"
      ],
      "metadata": {
        "id": "mA2eTNp4vOY4"
      },
      "execution_count": 12,
      "outputs": []
    },
    {
      "cell_type": "code",
      "source": [
        "model.compile(loss=\"sparse_categorical_crossentropy\",\n",
        "              optimizer='adam',\n",
        "              metrics=['accuracy'])"
      ],
      "metadata": {
        "id": "5AKAuMGivaqp"
      },
      "execution_count": 13,
      "outputs": []
    },
    {
      "cell_type": "code",
      "source": [
        "train_model = model.fit(X_train, y_train,\n",
        "                  batch_size=128,\n",
        "                  epochs=10,\n",
        "                  verbose=1,\n",
        "                  validation_data=(X_val, y_val))"
      ],
      "metadata": {
        "colab": {
          "base_uri": "https://localhost:8080/"
        },
        "id": "6tPY3FU7vcaq",
        "outputId": "56be43d3-9890-4079-ea2f-209c25e9abac"
      },
      "execution_count": 14,
      "outputs": [
        {
          "output_type": "stream",
          "name": "stdout",
          "text": [
            "Epoch 1/10\n",
            "375/375 [==============================] - 10s 6ms/step - loss: 0.5178 - accuracy: 0.8155 - val_loss: 0.3867 - val_accuracy: 0.8595\n",
            "Epoch 2/10\n",
            "375/375 [==============================] - 2s 5ms/step - loss: 0.3309 - accuracy: 0.8805 - val_loss: 0.3349 - val_accuracy: 0.8770\n",
            "Epoch 3/10\n",
            "375/375 [==============================] - 2s 5ms/step - loss: 0.2847 - accuracy: 0.8978 - val_loss: 0.3005 - val_accuracy: 0.8891\n",
            "Epoch 4/10\n",
            "375/375 [==============================] - 2s 5ms/step - loss: 0.2506 - accuracy: 0.9071 - val_loss: 0.2861 - val_accuracy: 0.8939\n",
            "Epoch 5/10\n",
            "375/375 [==============================] - 2s 5ms/step - loss: 0.2276 - accuracy: 0.9160 - val_loss: 0.2681 - val_accuracy: 0.9016\n",
            "Epoch 6/10\n",
            "375/375 [==============================] - 2s 5ms/step - loss: 0.2034 - accuracy: 0.9247 - val_loss: 0.2627 - val_accuracy: 0.9028\n",
            "Epoch 7/10\n",
            "375/375 [==============================] - 2s 5ms/step - loss: 0.1832 - accuracy: 0.9325 - val_loss: 0.2694 - val_accuracy: 0.9032\n",
            "Epoch 8/10\n",
            "375/375 [==============================] - 2s 5ms/step - loss: 0.1656 - accuracy: 0.9389 - val_loss: 0.2740 - val_accuracy: 0.9039\n",
            "Epoch 9/10\n",
            "375/375 [==============================] - 2s 5ms/step - loss: 0.1475 - accuracy: 0.9448 - val_loss: 0.2793 - val_accuracy: 0.9047\n",
            "Epoch 10/10\n",
            "375/375 [==============================] - 2s 5ms/step - loss: 0.1313 - accuracy: 0.9512 - val_loss: 0.2644 - val_accuracy: 0.9120\n"
          ]
        }
      ]
    },
    {
      "cell_type": "code",
      "source": [
        "score_model_1 = model.evaluate(X_test, y_test, verbose=0)\n",
        "print(score_model_1)"
      ],
      "metadata": {
        "colab": {
          "base_uri": "https://localhost:8080/"
        },
        "id": "LCI7x0CFvmCL",
        "outputId": "67a55f87-63ae-4008-dbf8-06b98529e787"
      },
      "execution_count": 15,
      "outputs": [
        {
          "output_type": "stream",
          "name": "stdout",
          "text": [
            "[0.2681770622730255, 0.9106000065803528]\n"
          ]
        }
      ]
    },
    {
      "cell_type": "code",
      "source": [
        "# Model_2\n",
        "model_2 = Sequential()\n",
        "\n",
        "model_2.add(Conv2D(32, kernel_size=(3, 3), activation='relu', kernel_initializer='he_normal',input_shape=(28, 28, 1)))\n",
        "model_2.add(MaxPooling2D((2, 2)))\n",
        "model.add(Dropout(0.2))\n",
        "\n",
        "model_2.add(Conv2D(64, kernel_size=(3, 3), activation='relu'))\n",
        "model_2.add(MaxPooling2D(pool_size=(2, 2)))\n",
        "model.add(Dropout(0.2))\n",
        "\n",
        "model_2.add(Conv2D(128, (3, 3), activation='relu'))\n",
        "model_2.add(Flatten())\n",
        "model_2.add(Dense(128, activation='relu'))\n",
        "model_2.add(Dense(10, activation='softmax'))\n",
        "\n",
        "model_2.compile(loss=\"sparse_categorical_crossentropy\",\n",
        "              optimizer='adam',\n",
        "              metrics=['accuracy'])"
      ],
      "metadata": {
        "id": "Ixq81n9Syl7A"
      },
      "execution_count": 16,
      "outputs": []
    },
    {
      "cell_type": "code",
      "source": [
        "train_model_2 = model_2.fit(X_train, y_train,\n",
        "                  batch_size=128,\n",
        "                  epochs=10,\n",
        "                  validation_data=(X_val, y_val))"
      ],
      "metadata": {
        "colab": {
          "base_uri": "https://localhost:8080/"
        },
        "id": "_jP6xDRHy2mz",
        "outputId": "ad032ab5-b332-42e4-c5c4-444c52618557"
      },
      "execution_count": 19,
      "outputs": [
        {
          "output_type": "stream",
          "name": "stdout",
          "text": [
            "Epoch 1/10\n",
            "375/375 [==============================] - 3s 6ms/step - loss: 0.5293 - accuracy: 0.8068 - val_loss: 0.3719 - val_accuracy: 0.8698\n",
            "Epoch 2/10\n",
            "375/375 [==============================] - 2s 6ms/step - loss: 0.3363 - accuracy: 0.8769 - val_loss: 0.3272 - val_accuracy: 0.8795\n",
            "Epoch 3/10\n",
            "375/375 [==============================] - 3s 7ms/step - loss: 0.2845 - accuracy: 0.8965 - val_loss: 0.3125 - val_accuracy: 0.8807\n",
            "Epoch 4/10\n",
            "375/375 [==============================] - 3s 7ms/step - loss: 0.2559 - accuracy: 0.9063 - val_loss: 0.2825 - val_accuracy: 0.8978\n",
            "Epoch 5/10\n",
            "375/375 [==============================] - 2s 6ms/step - loss: 0.2304 - accuracy: 0.9149 - val_loss: 0.2733 - val_accuracy: 0.9007\n",
            "Epoch 6/10\n",
            "375/375 [==============================] - 2s 6ms/step - loss: 0.2075 - accuracy: 0.9244 - val_loss: 0.2711 - val_accuracy: 0.9038\n",
            "Epoch 7/10\n",
            "375/375 [==============================] - 3s 7ms/step - loss: 0.1882 - accuracy: 0.9304 - val_loss: 0.2662 - val_accuracy: 0.9079\n",
            "Epoch 8/10\n",
            "375/375 [==============================] - 2s 5ms/step - loss: 0.1714 - accuracy: 0.9356 - val_loss: 0.2671 - val_accuracy: 0.9034\n",
            "Epoch 9/10\n",
            "375/375 [==============================] - 2s 5ms/step - loss: 0.1526 - accuracy: 0.9435 - val_loss: 0.2672 - val_accuracy: 0.9091\n",
            "Epoch 10/10\n",
            "375/375 [==============================] - 2s 5ms/step - loss: 0.1380 - accuracy: 0.9496 - val_loss: 0.2746 - val_accuracy: 0.9057\n"
          ]
        }
      ]
    },
    {
      "cell_type": "code",
      "source": [
        "score_model_2 = model_2.evaluate(X_test, y_test, verbose=0)\n",
        "print(score_model_2)"
      ],
      "metadata": {
        "colab": {
          "base_uri": "https://localhost:8080/"
        },
        "id": "5Jyw-31uy-Bl",
        "outputId": "80968d1e-7661-47cb-fcc3-08397e4d76e8"
      },
      "execution_count": 20,
      "outputs": [
        {
          "output_type": "stream",
          "name": "stdout",
          "text": [
            "[0.2700083553791046, 0.9111999869346619]\n"
          ]
        }
      ]
    },
    {
      "cell_type": "code",
      "source": [
        "#adding BatchNormalization layer\n",
        "\n",
        "# Model_3\n",
        "model_3 = Sequential()\n",
        "\n",
        "model_3.add(Conv2D(32, kernel_size=(3, 3), activation='relu', kernel_initializer='he_normal',input_shape=(28, 28, 1)))\n",
        "model_3.add(BatchNormalization())\n",
        "model_3.add(MaxPooling2D((2, 2)))\n",
        "model_3.add(Dropout(0.2))\n",
        "\n",
        "model_3.add(Conv2D(64, kernel_size=(3, 3), activation='relu'))\n",
        "model_3.add(BatchNormalization())\n",
        "model_3.add(MaxPooling2D(pool_size=(2, 2)))\n",
        "model_3.add(Dropout(0.2))\n",
        "\n",
        "model_3.add(Conv2D(128, (3, 3), activation='relu'))\n",
        "model_3.add(Flatten())\n",
        "model_3.add(Dense(128, activation='relu'))\n",
        "model_3.add(BatchNormalization())\n",
        "model_3.add(Dense(10, activation='softmax'))\n",
        "\n",
        "model_3.compile(loss=\"sparse_categorical_crossentropy\",\n",
        "              optimizer='adam',\n",
        "              metrics=['accuracy'])"
      ],
      "metadata": {
        "id": "BO9nhKD_zRAQ"
      },
      "execution_count": 27,
      "outputs": []
    },
    {
      "cell_type": "code",
      "source": [
        "train_model_3 = model_3.fit(X_train, y_train,\n",
        "                  batch_size=128,\n",
        "                  epochs=10,\n",
        "                  validation_data=(X_val, y_val))"
      ],
      "metadata": {
        "colab": {
          "base_uri": "https://localhost:8080/"
        },
        "id": "T1J8fIlc0yQ2",
        "outputId": "65b4f7a6-1126-47c9-c070-cfd5114758e4"
      },
      "execution_count": 28,
      "outputs": [
        {
          "output_type": "stream",
          "name": "stdout",
          "text": [
            "Epoch 1/10\n",
            "375/375 [==============================] - 3s 7ms/step - loss: 0.4774 - accuracy: 0.8258 - val_loss: 0.4765 - val_accuracy: 0.8282\n",
            "Epoch 2/10\n",
            "375/375 [==============================] - 2s 6ms/step - loss: 0.3297 - accuracy: 0.8773 - val_loss: 0.2963 - val_accuracy: 0.8898\n",
            "Epoch 3/10\n",
            "375/375 [==============================] - 2s 6ms/step - loss: 0.2862 - accuracy: 0.8936 - val_loss: 0.3057 - val_accuracy: 0.8874\n",
            "Epoch 4/10\n",
            "375/375 [==============================] - 2s 6ms/step - loss: 0.2623 - accuracy: 0.9021 - val_loss: 0.2651 - val_accuracy: 0.9051\n",
            "Epoch 5/10\n",
            "375/375 [==============================] - 2s 6ms/step - loss: 0.2420 - accuracy: 0.9094 - val_loss: 0.2524 - val_accuracy: 0.9061\n",
            "Epoch 6/10\n",
            "375/375 [==============================] - 2s 6ms/step - loss: 0.2222 - accuracy: 0.9181 - val_loss: 0.2577 - val_accuracy: 0.9052\n",
            "Epoch 7/10\n",
            "375/375 [==============================] - 2s 7ms/step - loss: 0.2122 - accuracy: 0.9206 - val_loss: 0.2476 - val_accuracy: 0.9088\n",
            "Epoch 8/10\n",
            "375/375 [==============================] - 3s 7ms/step - loss: 0.1948 - accuracy: 0.9275 - val_loss: 0.2448 - val_accuracy: 0.9118\n",
            "Epoch 9/10\n",
            "375/375 [==============================] - 2s 6ms/step - loss: 0.1864 - accuracy: 0.9293 - val_loss: 0.2498 - val_accuracy: 0.9107\n",
            "Epoch 10/10\n",
            "375/375 [==============================] - 2s 6ms/step - loss: 0.1744 - accuracy: 0.9349 - val_loss: 0.2411 - val_accuracy: 0.9164\n"
          ]
        }
      ]
    },
    {
      "cell_type": "code",
      "source": [
        "score_model_3 = model_3.evaluate(X_test, y_test, verbose=0)\n",
        "print(score_model_3)"
      ],
      "metadata": {
        "colab": {
          "base_uri": "https://localhost:8080/"
        },
        "id": "KjMHY1Gg06af",
        "outputId": "faab4580-d65b-47a0-f9f6-f5d6c6826785"
      },
      "execution_count": 29,
      "outputs": [
        {
          "output_type": "stream",
          "name": "stdout",
          "text": [
            "[0.24635344743728638, 0.9164999723434448]\n"
          ]
        }
      ]
    },
    {
      "cell_type": "code",
      "source": [
        "print( round(score_model_1[1]*100,2),\"% , \",round(score_model_2[1]*100,2),\"% , \",round(score_model_3[1]*100,2),\"% \")"
      ],
      "metadata": {
        "colab": {
          "base_uri": "https://localhost:8080/"
        },
        "id": "nTSC1gMz1O6G",
        "outputId": "1eb69c88-52c6-4f98-f4b4-8a399f71b7af"
      },
      "execution_count": 41,
      "outputs": [
        {
          "output_type": "stream",
          "name": "stdout",
          "text": [
            "91.06 % ,  91.12 % ,  91.65 % \n"
          ]
        }
      ]
    }
  ]
}